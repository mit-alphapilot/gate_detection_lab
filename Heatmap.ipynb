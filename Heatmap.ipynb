{
 "cells": [
  {
   "cell_type": "code",
   "execution_count": null,
   "metadata": {},
   "outputs": [],
   "source": [
    "# import needed libraries\n",
    "# NOTE: this block may take up to 30sec to run\n",
    "\n",
    "from __future__ import absolute_import, division, print_function\n",
    "\n",
    "# TensorFlow and tf.keras\n",
    "import tensorflow as tf\n",
    "from tensorflow import keras\n",
    "\n",
    "# Helper libraries\n",
    "import numpy as np\n",
    "import matplotlib.pyplot as plt\n",
    "\n",
    "import cv2\n",
    "import numpy as np\n",
    "\n",
    "import os\n",
    "from os.path import join as pj\n",
    "from random import shuffle\n",
    "\n",
    "print(tf.__version__)"
   ]
  },
  {
   "cell_type": "code",
   "execution_count": null,
   "metadata": {},
   "outputs": [],
   "source": [
    "# load previously trained model\n",
    "\n",
    "with open('model.json') as READ:\n",
    "    model = keras.models.model_from_json(READ.read())\n",
    "\n",
    "model.load_weights('model.h5')\n",
    "\n",
    "model.compile(optimizer='adam', \n",
    "              loss='sparse_categorical_crossentropy',\n",
    "              metrics=['accuracy'])"
   ]
  },
  {
   "cell_type": "code",
   "execution_count": null,
   "metadata": {},
   "outputs": [],
   "source": [
    "# create activation model (i.e. will show activation of individual layers)\n",
    "\n",
    "layer_outputs = [layer.output for layer in model.layers] \n",
    "activation_model = keras.models.Model(inputs=model.input, outputs=layer_outputs) # Creates a model that will return these outputs, given the model input"
   ]
  },
  {
   "cell_type": "code",
   "execution_count": null,
   "metadata": {},
   "outputs": [],
   "source": [
    "# capture a single frame from a webcam\n",
    "\n",
    "cap = cv2.VideoCapture(2)\n",
    "cap.set(cv2.CAP_PROP_FRAME_WIDTH, 320)\n",
    "cap.set(cv2.CAP_PROP_FRAME_HEIGHT, 240)\n",
    "\n",
    "ret, frame = cap.read()\n",
    "frame_scaled = frame/255\n",
    "frame_reshaped = frame_scaled.reshape(1,240,320,3)\n",
    "\n",
    "cap.release()"
   ]
  },
  {
   "cell_type": "code",
   "execution_count": null,
   "metadata": {},
   "outputs": [],
   "source": [
    "# display single webcam frame\n",
    "\n",
    "plt.figure()\n",
    "plt.imshow(frame)\n",
    "plt.colorbar()\n",
    "plt.grid(False)\n",
    "plt.show()"
   ]
  },
  {
   "cell_type": "code",
   "execution_count": null,
   "metadata": {},
   "outputs": [],
   "source": [
    "# predicts whether image contains gate\n",
    "\n",
    "predictions = model.predict(frame_reshaped)\n",
    "class_names = ['no_gate', 'gate']\n",
    "class_names[np.argmax(predictions[0])]"
   ]
  },
  {
   "cell_type": "code",
   "execution_count": null,
   "metadata": {},
   "outputs": [],
   "source": [
    "# shows activation at a given layer (SELECT_LAYER)\n",
    "\n",
    "########################################\n",
    "# BEGIN CONFIG REGION >>>>>\n",
    "SELECT_LAYER = 3\n",
    "# <<<<< END CONFIG REGION\n",
    "########################################\n",
    "\n",
    "activations = activation_model.predict(frame_reshaped)\n",
    "\n",
    "layer_activation = activations[SELECT_LAYER]\n",
    "averaged = np.mean(layer_activation, axis=3)\n",
    "plt.matshow(averaged[0, :, :], cmap='viridis')"
   ]
  },
  {
   "cell_type": "code",
   "execution_count": null,
   "metadata": {},
   "outputs": [],
   "source": [
    "# turn heatmap into steering angle\n",
    "\n",
    "########################################\n",
    "# BEGIN STUDENT SECTION >>>>>\n",
    "#\n",
    "# USE NUMPY TO ANALYZE HEATMAP DATA AND CREATE STEERING ANGLE\n",
    "#\n",
    "# <<<<< END STUDENT SECTION\n",
    "########################################"
   ]
  }
 ],
 "metadata": {
  "kernelspec": {
   "display_name": "Python 3",
   "language": "python",
   "name": "python3"
  },
  "language_info": {
   "codemirror_mode": {
    "name": "ipython",
    "version": 3
   },
   "file_extension": ".py",
   "mimetype": "text/x-python",
   "name": "python",
   "nbconvert_exporter": "python",
   "pygments_lexer": "ipython3"
  }
 },
 "nbformat": 4,
 "nbformat_minor": 2
}
