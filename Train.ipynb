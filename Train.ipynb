{
 "cells": [
  {
   "cell_type": "code",
   "execution_count": null,
   "metadata": {},
   "outputs": [],
   "source": [
    "# import needed libraries\n",
    "# NOTE: this block may take up to 30sec to run\n",
    "\n",
    "from __future__ import absolute_import, division, print_function\n",
    "\n",
    "# TensorFlow and tf.keras\n",
    "import tensorflow as tf\n",
    "from tensorflow import keras\n",
    "\n",
    "# Helper libraries\n",
    "import numpy as np\n",
    "import matplotlib.pyplot as plt\n",
    "\n",
    "import cv2\n",
    "import os\n",
    "from os.path import join as pj\n",
    "from random import shuffle\n",
    "\n",
    "print(tf.__version__)"
   ]
  },
  {
   "cell_type": "code",
   "execution_count": null,
   "metadata": {},
   "outputs": [],
   "source": [
    "# helper function that loads data from specific directories, applies the correct labels, and shuffles it\n",
    "\n",
    "def load_data():\n",
    "    ########################################\n",
    "    # BEGIN STUDENT SECTION >>>>>\n",
    "    PATH_TO_TRAIN_GATE    = ''\n",
    "    PATH_TO_TRAIN_NO_GATE = ''\n",
    "    PATH_TO_TEST_GATE     = ''\n",
    "    PATH_TO_TEST_NO_GATE  = ''\n",
    "    # <<<<< END STUDENT SECTION\n",
    "    ########################################\n",
    "    print('Start data load...')\n",
    "    for P,D,F in os.walk(PATH_TO_TRAIN_GATE):\n",
    "        train_gate = [cv2.imread(pj(P,f)) for f in F]\n",
    "        break\n",
    "    print('Loaded train gate...')\n",
    "    for P,D,F in os.walk(PATH_TO_TRAIN_NO_GATE):\n",
    "        train_no_gate = [cv2.imread(pj(P,f)) for f in F]\n",
    "        break\n",
    "    print('Loaded train no gate...')\n",
    "    for P,D,F in os.walk(PATH_TO_TEST_GATE):\n",
    "        test_gate = [cv2.imread(pj(P,f)) for f in F]\n",
    "        break\n",
    "    print('Loaded test gate...')\n",
    "    for P,D,F in os.walk(PATH_TO_TEST_NO_GATE):\n",
    "        test_no_gate = [cv2.imread(pj(P,f)) for f in F]\n",
    "        break\n",
    "    print('Loaded test no gate...')\n",
    "        \n",
    "    train_images = train_gate + train_no_gate\n",
    "    train_labels = [1] * len(train_gate) + [0] * len(train_no_gate)\n",
    "    \n",
    "    test_images = test_gate + test_no_gate\n",
    "    test_labels = [1] * len(test_gate) + [0] * len(test_no_gate)\n",
    "    \n",
    "    train = list(zip(train_images, train_labels))\n",
    "    test = list(zip(test_images, test_labels))\n",
    "    \n",
    "    shuffle(train)\n",
    "    shuffle(test)\n",
    "    \n",
    "    train_images, train_labels = zip(*train)\n",
    "    test_images, test_labels = zip(*test)\n",
    "    \n",
    "    train_images = np.array(train_images)\n",
    "    train_labels = np.array(train_labels)\n",
    "    test_images = np.array(test_images)\n",
    "    test_labels = np.array(test_labels)\n",
    "        \n",
    "    return (train_images, train_labels), (test_images, test_labels)"
   ]
  },
  {
   "cell_type": "code",
   "execution_count": null,
   "metadata": {},
   "outputs": [],
   "source": [
    "# load data and name classes\n",
    "\n",
    "(train_images, train_labels), (test_images, test_labels) = load_data()\n",
    "class_names = ['no_gate', 'gate']"
   ]
  },
  {
   "cell_type": "code",
   "execution_count": null,
   "metadata": {},
   "outputs": [],
   "source": [
    "# scale pixel values\n",
    "\n",
    "train_images = train_images / 255.0\n",
    "test_images = test_images / 255.0"
   ]
  },
  {
   "cell_type": "code",
   "execution_count": null,
   "metadata": {},
   "outputs": [],
   "source": [
    "# visualize\n",
    "\n",
    "plt.figure(figsize=(10,10))\n",
    "for i in range(25):\n",
    "    plt.subplot(5,5,i+1)\n",
    "    plt.xticks([])\n",
    "    plt.yticks([])\n",
    "    plt.grid(False)\n",
    "    plt.imshow(train_images[i], cmap=plt.cm.binary)\n",
    "    plt.xlabel(class_names[train_labels[i]])\n",
    "plt.show()"
   ]
  },
  {
   "cell_type": "code",
   "execution_count": null,
   "metadata": {},
   "outputs": [],
   "source": [
    "# build model structure\n",
    "\n",
    "from tensorflow.keras import layers\n",
    "\n",
    "model = keras.Sequential()\n",
    "\n",
    "########################################\n",
    "# BEGIN STUDENT SECTION >>>>>\n",
    "#\n",
    "# BUILD YOUR MODEL WITH LINES LIKE\n",
    "# model.add(layers.Conv2D(...))\n",
    "# model.add(layers.AveragePooling2D())\n",
    "# model.add(layers.Flatten())\n",
    "# model.add(layers.Dense(...))\n",
    "# etc.\n",
    "#\n",
    "# <<<<< END STUDENT SECTION\n",
    "########################################\n",
    "\n",
    "model.summary()"
   ]
  },
  {
   "cell_type": "code",
   "execution_count": null,
   "metadata": {},
   "outputs": [],
   "source": [
    "# train model\n",
    "\n",
    "model.compile(optimizer='adam', \n",
    "              loss='sparse_categorical_crossentropy',\n",
    "              metrics=['accuracy'])\n",
    "model.fit(train_images, train_labels, epochs=5)"
   ]
  },
  {
   "cell_type": "code",
   "execution_count": null,
   "metadata": {},
   "outputs": [],
   "source": [
    "# test model\n",
    "\n",
    "test_loss, test_acc = model.evaluate(test_images, test_labels)\n",
    "\n",
    "print('Test accuracy:', test_acc)"
   ]
  },
  {
   "cell_type": "code",
   "execution_count": null,
   "metadata": {},
   "outputs": [],
   "source": [
    "# save model\n",
    "\n",
    "with open('model.json', 'w') as WRITE:\n",
    "    WRITE.write(model.to_json())\n",
    "model.save_weights('model.h5')"
   ]
  }
 ],
 "metadata": {
  "kernelspec": {
   "display_name": "Python 3",
   "language": "python",
   "name": "python3"
  },
  "language_info": {
   "codemirror_mode": {
    "name": "ipython",
    "version": 3
   },
   "file_extension": ".py",
   "mimetype": "text/x-python",
   "name": "python",
   "nbconvert_exporter": "python",
   "pygments_lexer": "ipython3"
  }
 },
 "nbformat": 4,
 "nbformat_minor": 2
}
